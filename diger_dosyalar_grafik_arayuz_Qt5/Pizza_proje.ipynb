{
  "cells": [
    {
      "cell_type": "code",
      "execution_count": 1,
      "metadata": {},
      "outputs": [],
      "source": [
        "#Kütüphane tanımlama\n",
        "import csv\n",
        "import datetime"
      ]
    },
    {
      "cell_type": "code",
      "execution_count": 2,
      "metadata": {
        "id": "VJ7SVlTbo9TE"
      },
      "outputs": [],
      "source": [
        "#SUPER CLASSES\n",
        "\n",
        "#Dekarasyon superclass\n",
        "class Dekorasyon():\n",
        "  def __init__(self,fiyat,aciklama):\n",
        "    self.fiyat = fiyat\n",
        "    self.aciklama = aciklama\n",
        "\n",
        "  def bilgi_fiyat(self):\n",
        "    return \"Fiyat :\" + \" \" + str(self.fiyat)\n",
        "  \n",
        "  def bilgi_aciklama(self):\n",
        "    return \"Açıklama :\" + \" \" + str(self.aciklama)\n",
        "\n",
        "\n",
        "#pizza superclass\n",
        "class pizza(Dekorasyon):\n",
        "  def __init__(self,isim,fiyat,aciklama,sos_tur):\n",
        "    super().__init__(fiyat,aciklama)\n",
        "    self.isim = isim\n",
        "    self.sos_tur = sos_tur\n",
        "    \n",
        "    if self.sos_tur == \"Zeytin\":\n",
        "      self.fiyat += Zeytin_sos.fiyat\n",
        "    elif self.sos_tur ==  \"Mantar\":\n",
        "      self.fiyat += Mantar_sos.fiyat\n",
        "    elif self.sos_tur ==  \"Keçi Peyniri\":\n",
        "      self.fiyat += Keci_Peynir_sos.fiyat\n",
        "    elif self.sos_tur ==  \"Et\":\n",
        "      self.fiyat += Et_sos.fiyat\n",
        "    elif self.sos_tur ==  \"Soğan\":\n",
        "      self.fiyat += Sogan_sos.fiyat\n",
        "    elif self.sos_tur ==  \"Mısır\":\n",
        "      self.fiyat += Misir_sos.fiyat\n",
        "\n",
        "#sos superclass\n",
        "class sos(Dekorasyon):\n",
        "  def __init__(self,isim,fiyat,aciklama):\n",
        "    super().__init__(fiyat,aciklama)\n",
        "    self.isim = isim"
      ]
    },
    {
      "cell_type": "code",
      "execution_count": 3,
      "metadata": {
        "id": "X15eb5VVyd2Y"
      },
      "outputs": [],
      "source": [
        "#Pizza Alt Classları\n",
        "class Turk_pizza(pizza):\n",
        "  def __init__(self,isim,fiyat,aciklama,sos_tur,malzeme):\n",
        "    super().__init__(isim,fiyat,aciklama,sos_tur)\n",
        "    self.malzeme = malzeme\n",
        "\n",
        "class Klasik_pizza(pizza):\n",
        "  def __init__(self,isim,fiyat,aciklama,sos_tur,malzeme):\n",
        "    super().__init__(isim,fiyat,aciklama,sos_tur)\n",
        "    self.malzeme = malzeme\n",
        "\n",
        "class Margherita_pizza(pizza):\n",
        "  def __init__(self,isim,fiyat,aciklama,sos_tur,malzeme):\n",
        "    super().__init__(isim,fiyat,aciklama,sos_tur)\n",
        "    self.malzeme = malzeme\n",
        "\n",
        "class Dominos_pizza(pizza):\n",
        "  def __init__(self,isim,fiyat,aciklama,sos_tur,malzeme):\n",
        "    super().__init__(isim,fiyat,aciklama,sos_tur)\n",
        "    self.malzeme = malzeme"
      ]
    },
    {
      "cell_type": "code",
      "execution_count": 4,
      "metadata": {
        "id": "a1wqEZkNDHl4"
      },
      "outputs": [],
      "source": [
        "#Sos Subclasses\n",
        "class Zeytin_sos(sos):\n",
        "  def __init__(self,isim,fiyat,aciklama):\n",
        "    super().__init__(isim,fiyat,aciklama)\n",
        "\n",
        "class Mantar_sos(sos):\n",
        "  def __init__(self,isim,fiyat,aciklama):\n",
        "    super().__init__(isim,fiyat,aciklama)\n",
        "\n",
        "class Keci_Peynir_sos(sos):\n",
        "  def __init__(self,isim,fiyat,aciklama):\n",
        "    super().__init__(isim,fiyat,aciklama)\n",
        "\n",
        "class Et_sos(sos):\n",
        "  def __init__(self,isim,fiyat,aciklama):\n",
        "    super().__init__(isim,fiyat,aciklama)\n",
        "\n",
        "class Sogan_sos(sos):\n",
        "  def __init__(self,isim,fiyat,aciklama):\n",
        "    super().__init__(isim,fiyat,aciklama)\n",
        "\n",
        "class Misir_sos(sos):\n",
        "  def __init__(self,isim,fiyat,aciklama):\n",
        "    super().__init__(isim,fiyat,aciklama)\n",
        "\n",
        "#Sos Data Adding\n",
        "Zeytin_sos = Zeytin_sos(\"Zeytin Sos\",10,\"Bol Acı Sos\")\n",
        "Mantar_sos = Mantar_sos(\"Mantar Sos\",20,\"Bol Acı Sos\")\n",
        "Keci_Peynir_sos = Keci_Peynir_sos(\"Keçi Peynir Sos\",30,\"Bol Acı Sos\")\n",
        "Et_sos = Et_sos(\"Et Sos\",40,\"Bol Acı Sos\")\n",
        "Sogan_sos = Sogan_sos(\"Soğan Sos\",50,\"Bol Acı Sos\")\n",
        "Misir_sos = Misir_sos(\"Mısır Sos\",60,\"Bol Acı Sos\")"
      ]
    },
    {
      "cell_type": "code",
      "execution_count": 5,
      "metadata": {},
      "outputs": [],
      "source": [
        "#User Class\n",
        "class kredi_karti:\n",
        "    def __init__(self,kredi_karti_no,kredi_karti_sifre,en_son_kullanim):\n",
        "        self.kredi_karti_no = kredi_karti_no\n",
        "        self.kredi_karti_sifre = kredi_karti_sifre\n",
        "        self.en_son_kullanim = en_son_kullanim\n",
        "\n",
        "class kullanici(kredi_karti):\n",
        "    def __init__(self,isim,soyisim,TC_No,kredi_karti_no,kredi_karti_sifre,en_son_kullanim):\n",
        "        self.isim = isim\n",
        "        self.soyisim = soyisim\n",
        "        self.TC_No = TC_No\n",
        "        super().__init__(kredi_karti_no,kredi_karti_sifre,en_son_kullanim)\n",
        "\n",
        "class satis_islem(kullanici):\n",
        "    def __init__(self,isim,soyisim,TC_No,kredi_karti_no,kredi_karti_sifre,en_son_kullanim,satin_alinan_pizza_isim,satin_alinan_pizza_fiyat):\n",
        "        super().__init__(isim,soyisim,TC_No,kredi_karti_no,kredi_karti_sifre,en_son_kullanim)\n",
        "        self.satin_alinan_pizza_isim = satin_alinan_pizza_isim\n",
        "        self.satin_alinan_pizza_fiyat = satin_alinan_pizza_fiyat"
      ]
    },
    {
      "cell_type": "code",
      "execution_count": 6,
      "metadata": {
        "id": "ySSOuAM_SZSb"
      },
      "outputs": [],
      "source": [
        "#Selecet pizza function for user\n",
        "\n",
        "def musteri_pizza_secme():\n",
        "  print(\"-------------------------------------------------------------\")\n",
        "  print(\"PİZZA TÜRLERİ\")\n",
        "  print(\"Türk Pizza - Klasik Pizza - Margherita Pizza - Dominos Pizza\")\n",
        "  print(\"-------------------------------------------------------------\")\n",
        "  print(\"SOS TÜRLERİ\")\n",
        "  print(\"Zeytin - Mantar - Keçi Peyniri - Et - Soğan - Mısır\")\n",
        "  print(\"-------------------------------------------------------------\")\n",
        "  print(\"Pizza türünü seçiniz ve eğer sos istemiyorsanız 'no' yazınız.\")\n",
        "  print(\"-------------------------------------------------------------\")\n",
        "  pizza_select = str(input(\"Pizza Adı Yazınız : \\t\"))\n",
        "  sos_select = str(input(\"Sos Adı Yazınız : \\t\"))\n",
        "\n",
        "  if pizza_select == \"Türk Pizza\":\n",
        "    Turk_Pizza1 = Turk_pizza(\"Türk Pizza\",200,\"Yozgat Yapımı\", sos_select,[\"yumurta\",\"un\"])\n",
        "    secilen_urun_yazdir(Turk_Pizza1.isim,Turk_Pizza1.sos_tur,Turk_Pizza1.bilgi_fiyat())\n",
        "    kullanici_islem(Turk_Pizza1.isim,Turk_Pizza1.fiyat)\n",
        "  elif pizza_select == \"Klasik Pizza\":\n",
        "    Klasik_Pizza1 = Klasik_pizza(\"Klasik Pizza\",220,\"Kayseri Yapımı\",sos_select,[\"yumurta\",\"un\"])\n",
        "    secilen_urun_yazdir(Klasik_Pizza1.isim,Klasik_Pizza1.sos_tur,Klasik_Pizza1.bilgi_fiyat())\n",
        "    kullanici_islem(Klasik_Pizza1.isim,Klasik_Pizza1.fiyat)\n",
        "  elif pizza_select == \"Margherita Pizza\":\n",
        "    Margherita_pizza1 = Margherita_pizza(\"Margherita Pizza\",240,\"Kırşehir Yapımı\",sos_select,[\"yumurta\",\"un\"])\n",
        "    secilen_urun_yazdir(Margherita_pizza1.isim,Margherita_pizza1.sos_tur,Margherita_pizza1.bilgi_fiyat())\n",
        "    kullanici_islem(Margherita_pizza1.isim,Margherita_pizza1.fiyat)\n",
        "  elif pizza_select == \"Dominos Pizza\":\n",
        "    Dominos_pizza1 = Dominos_pizza(\"Dominos Pizza\",260,\"Nevşehir Yapımı\",sos_select,[\"yumurta\",\"un\"])\n",
        "    secilen_urun_yazdir(Dominos_pizza1.isim,Dominos_pizza1.sos_tur,Dominos_pizza1.bilgi_fiyat())\n",
        "    kullanici_islem(Dominos_pizza1.isim,Dominos_pizza1.fiyat)\n",
        "  else:\n",
        "    print(\"Hatalı işlem yaptınız! Lütfen pizza seçiniz!\")\n",
        "\n",
        "def kullanici_islem(urun_isim,urun_fiyat):\n",
        "  zaman = datetime.datetime.now()\n",
        "  zaman = datetime.datetime.strftime(zaman, '%d.%m.%Y. %X')\n",
        "  satis1 = satis_islem(input(\"İsim Yazınız : \\t\"),input(\"Soyisim Yazınız : \\t\"),input(\"TC NO Yazınız : \\t\"),input(\"Kredi Kartı Numaranızı Yazınız : \\t\"),input(\"Kredi Kartı Şifrenizi Yazınız : \\t\"),zaman,str(urun_isim),str(urun_fiyat))\n",
        "  deger_pizza_musteri = [satis1.isim,satis1.soyisim,satis1.TC_No,satis1.kredi_karti_no,satis1.kredi_karti_sifre,satis1.en_son_kullanim,satis1.satin_alinan_pizza_isim,satis1.satin_alinan_pizza_fiyat]\n",
        "  with open('pizza_musteri.csv','a') as pizza_musteri:\n",
        "    yazdirma_islem = csv.writer(pizza_musteri)\n",
        "    yazdirma_islem.writerow(deger_pizza_musteri)\n",
        "  \n",
        "  print(\"-------------------------------------------------------------\")\n",
        "  print(\"MÜŞTERİ BİLGİLERİ\")\n",
        "  print(\"Müşteri İsmi ve Soyadı: {} {}\\nMüşteri TC No: {}\".format(satis1.isim,satis1.soyisim,satis1.TC_No))\n",
        "  print(\"-------------------------------------------------------------\")\n",
        "  print(\"ÖDEME BİLGİLERİ\")\n",
        "  print(\"Kredi Kartı Numarası: {}\\nKredi Kartı Şifresi: {}\\nÖdeme Tarihi: {}\".format(satis1.kredi_karti_no,satis1.kredi_karti_sifre,satis1.en_son_kullanim))\n",
        "  print(\"-------------------------------------------------------------\")\n",
        "  \n",
        "def secilen_urun_yazdir(isim,sos,fiyat):\n",
        "  print(\"-------------------------------------------------------------\")\n",
        "  print(\"-------------------------------------------------------------\")\n",
        "  print(\"-------------------------------------------------------------\")\n",
        "  print(\"PİZZA BİLGİLERİ\")\n",
        "  print(\"Seçilen Pizza: {}\\nSos : {}\\nToplam Tutar: {}\".format(isim,sos,fiyat))\n",
        "  print(\"-------------------------------------------------------------\")\n",
        "  print(\"-------------------------------------------------------------\")\n",
        "  print(\"-------------------------------------------------------------\")"
      ]
    },
    {
      "cell_type": "code",
      "execution_count": 7,
      "metadata": {
        "colab": {
          "base_uri": "https://localhost:8080/"
        },
        "id": "nn3f-zI2WGKb",
        "outputId": "808fc624-1863-438c-b6dd-e1897df9ca6c"
      },
      "outputs": [
        {
          "name": "stdout",
          "output_type": "stream",
          "text": [
            "-------------------------------------------------------------\n",
            "PİZZA TÜRLERİ\n",
            "Türk Pizza - Klasik Pizza - Margherita Pizza - Dominos Pizza\n",
            "-------------------------------------------------------------\n",
            "SOS TÜRLERİ\n",
            "Zeytin - Mantar - Keçi Peyniri - Et - Soğan - Mısır\n",
            "-------------------------------------------------------------\n",
            "Pizza türünü seçiniz ve eğer sos istemiyorsanız 'no' yazınız.\n",
            "-------------------------------------------------------------\n",
            "-------------------------------------------------------------\n",
            "-------------------------------------------------------------\n",
            "-------------------------------------------------------------\n",
            "PİZZA BİLGİLERİ\n",
            "Seçilen Pizza: Türk Pizza\n",
            "Sos : Et\n",
            "Toplam Tutar: Fiyat : 240\n",
            "-------------------------------------------------------------\n",
            "-------------------------------------------------------------\n",
            "-------------------------------------------------------------\n",
            "-------------------------------------------------------------\n",
            "MÜŞTERİ BİLGİLERİ\n",
            "Müşteri İsmi ve Soyadı: Denizhan Şahin\n",
            "Müşteri TC No: 4555322342353\n",
            "-------------------------------------------------------------\n",
            "ÖDEME BİLGİLERİ\n",
            "Kredi Kartı Numarası: 244224233\n",
            "Kredi Kartı Şifresi: ft55t\n",
            "Ödeme Tarihi: 03.03.2023. 14:31:32\n",
            "-------------------------------------------------------------\n"
          ]
        }
      ],
      "source": [
        "musteri_pizza_secme()"
      ]
    }
  ],
  "metadata": {
    "colab": {
      "provenance": []
    },
    "kernelspec": {
      "display_name": "Python 3",
      "language": "python",
      "name": "python3"
    },
    "language_info": {
      "codemirror_mode": {
        "name": "ipython",
        "version": 3
      },
      "file_extension": ".py",
      "mimetype": "text/x-python",
      "name": "python",
      "nbconvert_exporter": "python",
      "pygments_lexer": "ipython3",
      "version": "3.9.2"
    },
    "vscode": {
      "interpreter": {
        "hash": "916dbcbb3f70747c44a77c7bcd40155683ae19c65e1c03b4aa3499c5328201f1"
      }
    }
  },
  "nbformat": 4,
  "nbformat_minor": 0
}
